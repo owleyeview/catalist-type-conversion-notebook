{
 "cells": [
  {
   "metadata": {},
   "cell_type": "markdown",
   "source": [
    "# 📓 Catalist → MAP Schema Migration Notebook\n",
    "A repeatable pipeline for converting the **MAP Types Airtable export (CSV)** into the **canonical MAP-schema JSON**.\n",
    "\n",
    "**What this notebook does**\n",
    "\n",
    "1. Load the CSV you exported from Airtable\n",
    "2. Normalise booleans, trim strings, and fix casing\n",
    "3. Build a **`schema` object** (name, label, description)\n",
    "4. Convert every row into a **typed descriptor** inside `types[]`\n",
    "5. Emit a single JSON file whose shape matches the new loader spec\n",
    "6. (Optional) validate against the JSON-Schema draft included in design docs\n",
    "---\n",
    "# 1. Imports & Config\n"
   ],
   "id": "f3bd3985f96a7060"
  },
  {
   "metadata": {
    "ExecuteTime": {
     "end_time": "2025-06-09T21:21:02.943327Z",
     "start_time": "2025-06-09T21:21:02.910356Z"
    }
   },
   "cell_type": "code",
   "source": [
    "# 1 — Imports & Config\n",
    "\n",
    "import pandas as pd\n",
    "import json, itertools\n",
    "from datetime import datetime\n",
    "from pathlib import Path\n",
    "\n",
    "# Paths (edit as needed)\n",
    "CSV_PATH  = Path(\"data/MAP Types-Grid view.csv\")\n",
    "OUT_DIR   = Path(\".\")\n",
    "BASE_NAME = \"catalist_schema\"               # will become catalist_schema_<timestamp>.json\n",
    "\n",
    "# Which TypeKinds from the CSV should become descriptors\n",
    "TYPEKINDS_TO_EXPORT = [\"HolonType\", \"PropertyType\", \"ValueType\",\n",
    "                       \"EnumType\",  \"EnumVariantType\",\n",
    "                       \"RelationshipType\"]          # ← no CollectionType!\n",
    "\n",
    "# Name this new schema (and a short human label/description)\n",
    "SCHEMA_INFO = {\n",
    "    \"type_name\"   : \"CatalistSchema\",\n",
    "    \"label\"       : \"Catalist 3.0 Schema\",\n",
    "    \"description\" : \"Types auto-generated from Catalist Airtable export\"\n",
    "}\n",
    "\n",
    "# ------------------------------------------------------------------\n",
    "# Helper: normalise Airtable checkbox / bool columns\n",
    "def bool_norm(val) -> bool:\n",
    "    return bool(val) if isinstance(val, bool) else str(val).strip().lower() == \"checked\"\n"
   ],
   "id": "3ebfbd3547a5d961",
   "outputs": [],
   "execution_count": 3
  },
  {
   "metadata": {},
   "cell_type": "markdown",
   "source": [
    "---\n",
    "# 2. Load CSV + peek"
   ],
   "id": "af6f1395643d06df"
  },
  {
   "cell_type": "code",
   "id": "initial_id",
   "metadata": {
    "collapsed": true,
    "ExecuteTime": {
     "end_time": "2025-06-09T21:21:09.843410Z",
     "start_time": "2025-06-09T21:21:09.709257Z"
    }
   },
   "source": [
    "df = pd.read_csv(CSV_PATH)\n",
    "print(f\"Loaded {len(df)} rows, {len(df.columns)} columns\")\n",
    "df.head(3)"
   ],
   "outputs": [
    {
     "name": "stdout",
     "output_type": "stream",
     "text": [
      "Loaded 184 rows, 45 columns\n"
     ]
    },
    {
     "data": {
      "text/plain": [
       "    Type Name   TypeKind                                              Notes  \\\n",
       "0    Activity  HolonType                            Similar to a MAP dance?   \n",
       "1   Archetype  HolonType  Sub-Type of Personality Trait? (per comment in...   \n",
       "2  Attachment  HolonType  Probably a URL address and Title. Add a MIMETy...   \n",
       "\n",
       "   Assignee New For Catalist  Status       Descriptor Name  \\\n",
       "0       NaN              Yes     NaN    ActivityDescriptor   \n",
       "1       NaN              Yes     NaN   ArchetypeDescriptor   \n",
       "2       NaN              Yes     NaN  AttachmentDescriptor   \n",
       "\n",
       "                                         Description Label (Human Readable)  \\\n",
       "0  An action or event performed by a group or per...               Activity   \n",
       "1  A universally recognized model or pattern of b...              Archetype   \n",
       "2   External resource with associated URL and title.             Attachment   \n",
       "\n",
       "  Is Dependent  ... Min Value Max Value  Min Length  Max Length  \\\n",
       "0          NaN  ...       NaN                   NaN         NaN   \n",
       "1          NaN  ...       NaN                   NaN         NaN   \n",
       "2          NaN  ...       NaN                   NaN         NaN   \n",
       "\n",
       "  Catalist Field Variants Import to MAP? Relationship From Relationship To  \\\n",
       "0            NaN      NaN            NaN               NaN             NaN   \n",
       "1            NaN      NaN            NaN               NaN             NaN   \n",
       "2            NaN      NaN            NaN               NaN             NaN   \n",
       "\n",
       "   Is Definitional  \n",
       "0              NaN  \n",
       "1              NaN  \n",
       "2              NaN  \n",
       "\n",
       "[3 rows x 45 columns]"
      ],
      "text/html": [
       "<div>\n",
       "<style scoped>\n",
       "    .dataframe tbody tr th:only-of-type {\n",
       "        vertical-align: middle;\n",
       "    }\n",
       "\n",
       "    .dataframe tbody tr th {\n",
       "        vertical-align: top;\n",
       "    }\n",
       "\n",
       "    .dataframe thead th {\n",
       "        text-align: right;\n",
       "    }\n",
       "</style>\n",
       "<table border=\"1\" class=\"dataframe\">\n",
       "  <thead>\n",
       "    <tr style=\"text-align: right;\">\n",
       "      <th></th>\n",
       "      <th>Type Name</th>\n",
       "      <th>TypeKind</th>\n",
       "      <th>Notes</th>\n",
       "      <th>Assignee</th>\n",
       "      <th>New For Catalist</th>\n",
       "      <th>Status</th>\n",
       "      <th>Descriptor Name</th>\n",
       "      <th>Description</th>\n",
       "      <th>Label (Human Readable)</th>\n",
       "      <th>Is Dependent</th>\n",
       "      <th>...</th>\n",
       "      <th>Min Value</th>\n",
       "      <th>Max Value</th>\n",
       "      <th>Min Length</th>\n",
       "      <th>Max Length</th>\n",
       "      <th>Catalist Field</th>\n",
       "      <th>Variants</th>\n",
       "      <th>Import to MAP?</th>\n",
       "      <th>Relationship From</th>\n",
       "      <th>Relationship To</th>\n",
       "      <th>Is Definitional</th>\n",
       "    </tr>\n",
       "  </thead>\n",
       "  <tbody>\n",
       "    <tr>\n",
       "      <th>0</th>\n",
       "      <td>Activity</td>\n",
       "      <td>HolonType</td>\n",
       "      <td>Similar to a MAP dance?</td>\n",
       "      <td>NaN</td>\n",
       "      <td>Yes</td>\n",
       "      <td>NaN</td>\n",
       "      <td>ActivityDescriptor</td>\n",
       "      <td>An action or event performed by a group or per...</td>\n",
       "      <td>Activity</td>\n",
       "      <td>NaN</td>\n",
       "      <td>...</td>\n",
       "      <td>NaN</td>\n",
       "      <td></td>\n",
       "      <td>NaN</td>\n",
       "      <td>NaN</td>\n",
       "      <td>NaN</td>\n",
       "      <td>NaN</td>\n",
       "      <td>NaN</td>\n",
       "      <td>NaN</td>\n",
       "      <td>NaN</td>\n",
       "      <td>NaN</td>\n",
       "    </tr>\n",
       "    <tr>\n",
       "      <th>1</th>\n",
       "      <td>Archetype</td>\n",
       "      <td>HolonType</td>\n",
       "      <td>Sub-Type of Personality Trait? (per comment in...</td>\n",
       "      <td>NaN</td>\n",
       "      <td>Yes</td>\n",
       "      <td>NaN</td>\n",
       "      <td>ArchetypeDescriptor</td>\n",
       "      <td>A universally recognized model or pattern of b...</td>\n",
       "      <td>Archetype</td>\n",
       "      <td>NaN</td>\n",
       "      <td>...</td>\n",
       "      <td>NaN</td>\n",
       "      <td></td>\n",
       "      <td>NaN</td>\n",
       "      <td>NaN</td>\n",
       "      <td>NaN</td>\n",
       "      <td>NaN</td>\n",
       "      <td>NaN</td>\n",
       "      <td>NaN</td>\n",
       "      <td>NaN</td>\n",
       "      <td>NaN</td>\n",
       "    </tr>\n",
       "    <tr>\n",
       "      <th>2</th>\n",
       "      <td>Attachment</td>\n",
       "      <td>HolonType</td>\n",
       "      <td>Probably a URL address and Title. Add a MIMETy...</td>\n",
       "      <td>NaN</td>\n",
       "      <td>Yes</td>\n",
       "      <td>NaN</td>\n",
       "      <td>AttachmentDescriptor</td>\n",
       "      <td>External resource with associated URL and title.</td>\n",
       "      <td>Attachment</td>\n",
       "      <td>NaN</td>\n",
       "      <td>...</td>\n",
       "      <td>NaN</td>\n",
       "      <td></td>\n",
       "      <td>NaN</td>\n",
       "      <td>NaN</td>\n",
       "      <td>NaN</td>\n",
       "      <td>NaN</td>\n",
       "      <td>NaN</td>\n",
       "      <td>NaN</td>\n",
       "      <td>NaN</td>\n",
       "      <td>NaN</td>\n",
       "    </tr>\n",
       "  </tbody>\n",
       "</table>\n",
       "<p>3 rows × 45 columns</p>\n",
       "</div>"
      ]
     },
     "execution_count": 4,
     "metadata": {},
     "output_type": "execute_result"
    }
   ],
   "execution_count": 4
  },
  {
   "metadata": {},
   "cell_type": "markdown",
   "source": [
    "---\n",
    "# 3. $ref helper"
   ],
   "id": "111e71cf2caa852a"
  },
  {
   "metadata": {
    "ExecuteTime": {
     "end_time": "2025-06-09T21:21:18.262198Z",
     "start_time": "2025-06-09T21:21:18.255769Z"
    }
   },
   "cell_type": "code",
   "source": [
    "def ref(type_name:str, schema:str=None, space:str=None):\n",
    "    \"\"\"\n",
    "    Build a structured $ref object.\n",
    "    Only include 'schema' or 'space' keys when supplied.\n",
    "    \"\"\"\n",
    "    obj = {\"type_name\": type_name}\n",
    "    if schema: obj[\"schema\"] = schema\n",
    "    if space:  obj[\"space\"]  = space\n",
    "    return {\"$ref\": obj}"
   ],
   "id": "6cae51de74478f9b",
   "outputs": [],
   "execution_count": 5
  },
  {
   "metadata": {},
   "cell_type": "markdown",
   "source": [
    "---\n",
    "# 4. Row → Descriptor Conversion"
   ],
   "id": "f86f68615978391c"
  },
  {
   "metadata": {
    "ExecuteTime": {
     "end_time": "2025-06-09T21:21:20.770988Z",
     "start_time": "2025-06-09T21:21:20.751393Z"
    }
   },
   "cell_type": "code",
   "source": [
    "def common_header(row, descriptor_name):\n",
    "    \"\"\"Return the pieces common to every TypeKind.\"\"\"\n",
    "    return {\n",
    "        \"descriptor_name\" : descriptor_name,\n",
    "        \"label\"           : row.get(\"Label (Human Readable)\", \"\") or \"\",\n",
    "        \"description\"     : row.get(\"Description\", \"\") or \"\",\n",
    "        \"is_dependent\"    : bool_norm(row.get(\"Is Dependent\", False)),\n",
    "        \"is_value_type\"   : bool_norm(row.get(\"Is ValueType\", False)),\n",
    "        \"described_by\"    : ref(row[\"TypeKind\"]),      # all core meta-types are addressable\n",
    "        \"is_subtype_of\"   : None                       # TODO: populate when CSV adds this\n",
    "    }\n",
    "\n",
    "# ----------------------------------------------------------------\n",
    "def row_to_holontype(row):\n",
    "    type_name = row[\"Type Name\"]\n",
    "    spec = common_header(row, f\"{type_name}Descriptor\")\n",
    "    # properties / key_properties\n",
    "    props = row.get(\"MAP PROPERTIES PropertyTypes\", \"\")\n",
    "    spec[\"properties\"] = [] if pd.isna(props) else [p.strip() for p in str(props).split(\",\") if p.strip()]\n",
    "    keyp = row.get(\"MAP KEY_PROPERTIES PropertyTypes\", \"\")\n",
    "    spec[\"key_properties\"] = [] if pd.isna(keyp) else [k.strip() for k in str(keyp).split(\",\") if k.strip()]\n",
    "    # inline spec fields\n",
    "    spec[\"type_name\"] = type_name\n",
    "    # relationships defined inline (optional)\n",
    "    # TODO: when Airtable adds a “source_for” column, parse it here\n",
    "    return {\"type_name\": type_name,\n",
    "            \"type_kind\": \"Holon\",\n",
    "            \"described_by\": ref(\"HolonType\"),\n",
    "            \"spec\": spec}\n",
    "\n",
    "# ----------------------------------------------------------------\n",
    "def row_to_propertytype(row):\n",
    "    type_name = row[\"Type Name\"]\n",
    "    spec = common_header(row, f\"{type_name}_descriptor\")\n",
    "    spec[\"property_name\"] = type_name\n",
    "    spec[\"value_type\"]    = ref(row.get(\"ValueType (VALUE_TYPE_FOR)\", \"\").strip())\n",
    "    return {\"type_name\": type_name,\n",
    "            \"type_kind\": \"Property\",\n",
    "            \"described_by\": ref(\"PropertyType\"),\n",
    "            \"spec\": spec}\n",
    "\n",
    "# ----------------------------------------------------------------\n",
    "def row_to_relationshiptype(row):\n",
    "    \"\"\"\n",
    "    Flattened RelationshipType that now embeds former CollectionType fields.\n",
    "    Expands 'Relationship From' × 'Relationship To' into multiple descriptors.\n",
    "    \"\"\"\n",
    "    rel_name     = row[\"Type Name\"]          # screaming-snake relationship name\n",
    "    source_owns  = bool_norm(row.get(\"Source Owns Relationship\", False))\n",
    "    deletion_sem = row.get(\"Deletion Semantic\", None)\n",
    "    deletion_sem = None if (pd.isna(deletion_sem) or str(deletion_sem).strip() == \"\") else deletion_sem\n",
    "\n",
    "    load_links   = bool_norm(row.get(\"Load Links Immediate\", False))\n",
    "    load_holons  = bool_norm(row.get(\"Load Holons Immediate\", False))\n",
    "    has_inverse  = row.get(\"Has Inverse\", \"\") or None\n",
    "\n",
    "    target_min   = int(row.get(\"Target Min Cardinality\") or 0)\n",
    "    target_max   = int(row.get(\"Target Max Cardinality\") or 0)\n",
    "    target_sem   = row.get(\"Target Semantic\", \"Set\")    # Set | List | Bag …\n",
    "\n",
    "    froms = [f.strip() for f in str(row.get(\"Relationship From\", \"\")).split(\",\") if f.strip()]\n",
    "    tos   = [t.strip() for t in str(row.get(\"Relationship To\", \"\")).split(\",\") if t.strip()]\n",
    "\n",
    "    out   = []\n",
    "    for src, tgt in itertools.product(froms, tos):\n",
    "        type_name = f\"{src}-{rel_name}->{tgt}\"\n",
    "        spec      = common_header(row, f\"{type_name}Descriptor\")\n",
    "        spec.update({\n",
    "            \"relationship_name\"        : rel_name,\n",
    "            \"source_owns_relationship\" : source_owns,\n",
    "            \"deletion_semantic\"        : deletion_sem,\n",
    "            \"load_links_immediate\"     : load_links,\n",
    "            \"load_holons_immediate\"    : load_holons,\n",
    "            \"has_inverse\"              : ref(has_inverse) if has_inverse else None,\n",
    "\n",
    "            # ⬇️ flattened collection fields\n",
    "            \"target_holon_type\"        : ref(tgt, schema=SCHEMA_INFO[\"type_name\"]),\n",
    "            \"target_semantic\"          : target_sem,\n",
    "            \"target_min_cardinality\"   : target_min,\n",
    "            \"target_max_cardinality\"   : target_max\n",
    "        })\n",
    "        out.append({\n",
    "            \"type_name\"    : type_name,\n",
    "            \"type_kind\"    : \"Relationship\",\n",
    "            \"described_by\" : ref(\"RelationshipType\"),\n",
    "            \"spec\"         : spec\n",
    "        })\n",
    "    return out\n"
   ],
   "id": "30f3e802e1d51365",
   "outputs": [],
   "execution_count": 6
  },
  {
   "metadata": {},
   "cell_type": "markdown",
   "source": [
    "---\n",
    "# 5. Convert every CSV row to descriptor dict(s)"
   ],
   "id": "e7b2049d7bf08062"
  },
  {
   "metadata": {
    "ExecuteTime": {
     "end_time": "2025-06-09T21:21:26.390739Z",
     "start_time": "2025-06-09T21:21:26.377301Z"
    }
   },
   "cell_type": "code",
   "source": [
    "descriptors = []\n",
    "\n",
    "for _, row in df.iterrows():\n",
    "    kind = row[\"TypeKind\"]\n",
    "    if kind not in TYPEKINDS_TO_EXPORT:\n",
    "        continue\n",
    "\n",
    "    if kind == \"HolonType\":\n",
    "        descriptors.append(row_to_holontype(row))\n",
    "\n",
    "    elif kind == \"PropertyType\":\n",
    "        descriptors.append(row_to_propertytype(row))\n",
    "\n",
    "    elif kind == \"RelationshipType\":\n",
    "        descriptors.extend(row_to_relationshiptype(row))\n",
    "\n",
    "    # TODO: EnumType, EnumVariantType … when those appear in CSV"
   ],
   "id": "bf0f3dfffe35b1a1",
   "outputs": [],
   "execution_count": 7
  },
  {
   "metadata": {},
   "cell_type": "markdown",
   "source": [
    "---\n",
    "# 6. Build the final JSON payload"
   ],
   "id": "83bac8dc2c89380"
  },
  {
   "metadata": {
    "ExecuteTime": {
     "end_time": "2025-06-09T21:21:38.671648Z",
     "start_time": "2025-06-09T21:21:38.664535Z"
    }
   },
   "cell_type": "code",
   "source": [
    "schema_block = {\n",
    "    \"type_name\"   : SCHEMA_INFO[\"type_name\"],\n",
    "    \"described_by\": ref(\"SchemaHolonType\"),   # core schema descriptor\n",
    "    \"properties\"  : {\n",
    "        \"name\"       : SCHEMA_INFO[\"label\"],\n",
    "        \"description\": SCHEMA_INFO[\"description\"]\n",
    "    }\n",
    "}\n",
    "\n",
    "payload = {\n",
    "    \"schema\": schema_block,\n",
    "    \"types\" : descriptors\n",
    "}\n",
    "print(f\"Schema object ready with {len(descriptors)} types\")"
   ],
   "id": "28abac0709f432d3",
   "outputs": [
    {
     "name": "stdout",
     "output_type": "stream",
     "text": [
      "Schema object ready with 219 types\n"
     ]
    }
   ],
   "execution_count": 8
  },
  {
   "metadata": {},
   "cell_type": "markdown",
   "source": [
    "---\n",
    "# 7. Write to timestamped JSON file"
   ],
   "id": "dddc3098b8d851e3"
  },
  {
   "metadata": {
    "ExecuteTime": {
     "end_time": "2025-06-09T21:21:47.793107Z",
     "start_time": "2025-06-09T21:21:47.780392Z"
    }
   },
   "cell_type": "code",
   "source": [
    "timestamp = datetime.now().strftime(\"%Y%m%d_%H%M%S\")\n",
    "out_path  = OUT_DIR / f\"{BASE_NAME}_{timestamp}.json\"\n",
    "\n",
    "with open(out_path, \"w\") as fh:\n",
    "    json.dump(payload, fh, indent=2)\n",
    "\n",
    "print(\"✅ Wrote\", out_path)"
   ],
   "id": "9899a817adae0d8b",
   "outputs": [
    {
     "name": "stdout",
     "output_type": "stream",
     "text": [
      "✅ Wrote catalist_schema_20250609_142147.json\n"
     ]
    }
   ],
   "execution_count": 9
  },
  {
   "metadata": {},
   "cell_type": "markdown",
   "source": [
    "---\n",
    "## 8. Validate against JSON Schema (optional)\n",
    "When you have a JSON Schema for the canonical MAP import JSON, you can validate the output against it."
   ],
   "id": "49c045626602d32"
  },
  {
   "metadata": {
    "ExecuteTime": {
     "end_time": "2025-06-09T21:14:23.058438Z",
     "start_time": "2025-06-09T21:14:23.017943Z"
    }
   },
   "cell_type": "code",
   "source": [
    "# Uncomment the code below to use this when you have a JSON Schema\n",
    "\n",
    "# import jsonschema, pathlib, json\n",
    "# schema_doc = json.load(open(\"map_schema_import.schema.json\"))\n",
    "# jsonschema.validate(payload, schema_doc)\n",
    "# print(\"Payload validated against canonical JSON-Schema\")"
   ],
   "id": "40055372526a3e39",
   "outputs": [],
   "execution_count": 2
  }
 ],
 "metadata": {
  "kernelspec": {
   "display_name": "Python 3",
   "language": "python",
   "name": "python3"
  },
  "language_info": {
   "codemirror_mode": {
    "name": "ipython",
    "version": 2
   },
   "file_extension": ".py",
   "mimetype": "text/x-python",
   "name": "python",
   "nbconvert_exporter": "python",
   "pygments_lexer": "ipython2",
   "version": "2.7.6"
  }
 },
 "nbformat": 4,
 "nbformat_minor": 5
}
